{
 "cells": [
  {
   "cell_type": "markdown",
   "metadata": {},
   "source": [
    "MILESTONE PROJECT 1"
   ]
  },
  {
   "cell_type": "code",
   "execution_count": 1,
   "metadata": {},
   "outputs": [],
   "source": [
    "from IPython.display import clear_output\n",
    "\n",
    "def display_board():\n",
    "    p = [\"a\",\"b\",\"c\",\"d\",\"e\",\"f\",\"g\",\"h\",\"i\",\"j\"]\n",
    "    board = [\"\",\"\",\"\",\"\",\"\",\"\",\"\",\"\",\"\",\"\"]\n",
    "    choice = 0\n",
    "    run = 1\n",
    "    while not (p[1] == p[2] == p[3] or\n",
    "               p[4] == p[5] == p[6] or\n",
    "               p[7] == p[8] == p[9] or\n",
    "               p[1] == p[5] == p[9] or\n",
    "               p[7] == p[5] == p[3] or\n",
    "               p[8] == p[5] == p[2] or\n",
    "               p[7] == p[4] == p[1] or\n",
    "               p[9] == p[6] == p[3] or\n",
    "               p.count(\"X\") >= 5 or\n",
    "               p.count(\"O\") >= 5):\n",
    "        try:\n",
    "            choice = input(\"please choose a number from 1 to 9: \")\n",
    "            if 1 <= int(choice) <= 9:\n",
    "                if run%2 != 0:\n",
    "                    if sign == \"X\":\n",
    "                        board[int(choice)] = \"X\"\n",
    "                        p[int(choice)] = \"X\"\n",
    "                    elif sign == \"O\":\n",
    "                        board[int(choice)] = \"O\"\n",
    "                        p[int(choice)] = \"O\"\n",
    "                elif run%2 == 0:\n",
    "                    if sign == \"X\":\n",
    "                        board[int(choice)] = \"O\"\n",
    "                        p[int(choice)] = \"O\" \n",
    "                    elif sign == \"O\":\n",
    "                        board[int(choice)] = \"X\"\n",
    "                        p[int(choice)] = \"X\" \n",
    "                clear_output()\n",
    "                print(str(board[7]) + \" | \" + str(board[8]) + \" | \" + str(board[9]))\n",
    "                print(\"\")\n",
    "                print(str(board[4]) + \" | \" + str(board[5]) + \" | \" + str(board[6]))\n",
    "                print(\"\")\n",
    "                print(str(board[1]) + \" | \" + str(board[2]) + \" | \" + str(board[3]))\n",
    "                run += 1\n",
    "            else:\n",
    "                print(\"Incorrect Input\")\n",
    "        except ValueError:\n",
    "            print(\"Incorrect input\")\n",
    "    if (p[1] == \"X\" and p[2] ==\"X\" and p[3] == \"X\" or\n",
    "       p[4] == \"X\" and p[5] == \"X\" and p[6] == \"X\" or\n",
    "       p[7] == \"X\" and p[8] == \"X\" and p[9] == \"X\" or\n",
    "       p[1] == \"X\" and p[5] == \"X\" and p[9] == \"X\" or\n",
    "       p[7] == \"X\" and p[5] == \"X\" and p[3] == \"X\" or\n",
    "       p[8] == \"X\" and p[5] == \"X\" and p[2] == \"X\" or\n",
    "       p[7] == \"X\" and p[4] == \"X\" and p[1] == \"X\" or\n",
    "       p[9] == \"X\" and p[6] == \"X\" and p[3]):\n",
    "            print(\"The Winner is X!\")\n",
    "    elif p.count(\"X\") >= 5 or p.count(\"O\") >= 5:\n",
    "        print(\"No Winner at this one.\")\n",
    "    else:\n",
    "         print(\"The Winner is O!\")\n",
    "\n",
    "    \n",
    "\n",
    "#display_board()"
   ]
  },
  {
   "cell_type": "code",
   "execution_count": 2,
   "metadata": {},
   "outputs": [],
   "source": [
    "def play_the_game():\n",
    "    print(\"Imagine that fields on tables are numbered like a numbers on keyboard!\")\n",
    "    print(\"So, for the bottom left one press 1 and for the upper right one press 9.\")\n",
    "    print(\" \" + \" | \" + \" \" + \" | \" + \" \")\n",
    "    print(\"\")\n",
    "    print(\" \" + \" | \" + \" \" + \" | \" + \" \")\n",
    "    print(\"\")\n",
    "    print(\" \" + \" | \" + \" \" + \" | \" + \" \")\n",
    "    display_board()\n"
   ]
  },
  {
   "cell_type": "code",
   "execution_count": 5,
   "metadata": {},
   "outputs": [],
   "source": [
    "def run_game():\n",
    "    global sign\n",
    "    play = \"\"\n",
    "    while play not in (\"Yes\", \"No\"):\n",
    "        try:\n",
    "            play = input(\"Do you want to play a tick-toe? Enter Yes or No: \")\n",
    "            if play == \"No\":\n",
    "                print(\"Another time then!\")\n",
    "                break\n",
    "            elif play == \"Yes\":\n",
    "                print(\"Wellcome to the game!\")\n",
    "                keep_playing = \"Yes\"\n",
    "                while keep_playing == \"Yes\":\n",
    "                    sign = \"\"\n",
    "                    while sign not in (\"X\", \"O\"):\n",
    "                        try:\n",
    "                            sign = input(\"Do you want to be X or O? Enter X or O: \")\n",
    "                            if sign == \"X\":\n",
    "                                print(\"Player 1 will be X\")\n",
    "                                play_the_game()\n",
    "                            elif sign == \"O\":\n",
    "                                print(\"Player 1 will be O!\")\n",
    "                                play_the_game()\n",
    "                            keep_playing = \"Initial\"\n",
    "                        except ValueError:\n",
    "                            print(\"invalid input\")\n",
    "                    while keep_playing not in (\"Yes\", \"No\"):\n",
    "                        keep_playing = input(\"Do you want to keep playing? Enter Yes or No: \") \n",
    "                        if keep_playing == \"Yes\":\n",
    "                            print(\"Great\")\n",
    "                        elif keep_playing == \"No\":\n",
    "                            print(\"See you next time\")\n",
    "                        else:\n",
    "                            print(\"Incorrect value entered. Please type Yes or No!\")\n",
    "        except ValueError:\n",
    "            print(\"Invalid input\")"
   ]
  },
  {
   "cell_type": "code",
   "execution_count": 9,
   "metadata": {},
   "outputs": [
    {
     "name": "stdout",
     "output_type": "stream",
     "text": [
      "Wellcome to the game!\n",
      "Player 1 will be X\n",
      "Imagine that fields on tables are numbered like a numbers on keyboard!\n",
      "So, for the bottom left one press 1 and for the upper right one press 9.\n",
      "  |   |  \n",
      "\n",
      "  |   |  \n",
      "\n",
      "  |   |  \n",
      "Incorrect input\n",
      "Incorrect input\n",
      "Incorrect input\n"
     ]
    }
   ],
   "source": [
    "run_game()\n",
    "\n"
   ]
  },
  {
   "cell_type": "code",
   "execution_count": null,
   "metadata": {},
   "outputs": [],
   "source": []
  }
 ],
 "metadata": {
  "kernelspec": {
   "display_name": "Python 3",
   "language": "python",
   "name": "python3"
  },
  "language_info": {
   "codemirror_mode": {
    "name": "ipython",
    "version": 3
   },
   "file_extension": ".py",
   "mimetype": "text/x-python",
   "name": "python",
   "nbconvert_exporter": "python",
   "pygments_lexer": "ipython3",
   "version": "3.11.4"
  }
 },
 "nbformat": 4,
 "nbformat_minor": 2
}
