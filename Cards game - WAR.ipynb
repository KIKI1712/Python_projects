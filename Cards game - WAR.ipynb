{
 "cells": [
  {
   "cell_type": "markdown",
   "metadata": {},
   "source": [
    "Define global variables"
   ]
  },
  {
   "cell_type": "code",
   "execution_count": 1,
   "metadata": {},
   "outputs": [],
   "source": [
    "import random\n",
    "from random import shuffle\n",
    "from random import randint\n",
    "#GLOBAL VARIABLE\n",
    "values = {\n",
    "    'Two': 2,\n",
    "    'Three': 3,\n",
    "    'Four': 4,\n",
    "    'Five': 5,\n",
    "    'Six': 6,\n",
    "    'Seven': 7,\n",
    "    'Eight': 8,\n",
    "    'Nine': 9,\n",
    "    'Ten': 10,\n",
    "    'Jack': 11,\n",
    "    'Queen': 12,\n",
    "    'King': 13,\n",
    "    'Ace': 14\n",
    "}\n",
    "\n",
    "suits = ('Hearts', 'Diamonds', 'Spades', 'Clubs')\n",
    "ranks = ('Two', 'Three', 'Four', 'Five', 'Six','Seven', 'Eight', 'Nine', 'Ten', 'Jack', 'Queen', 'King', 'Ace')"
   ]
  },
  {
   "cell_type": "markdown",
   "metadata": {},
   "source": [
    "CARD CLASS"
   ]
  },
  {
   "cell_type": "code",
   "execution_count": 2,
   "metadata": {},
   "outputs": [],
   "source": [
    "#CARD\n",
    "#SUIT RANK VALUE\n",
    "\n",
    "class Card:\n",
    "\n",
    "    def __init__(self, suit, rank):\n",
    "        self.suit = suit\n",
    "        self.rank = rank\n",
    "        self.value = values[rank]\n",
    "    \n",
    "    def __str__(self):\n",
    "        return self.rank + \" of \" + self.suit"
   ]
  },
  {
   "cell_type": "markdown",
   "metadata": {},
   "source": [
    "DECK CLASS"
   ]
  },
  {
   "cell_type": "code",
   "execution_count": 3,
   "metadata": {},
   "outputs": [],
   "source": [
    "class Deck():\n",
    "\n",
    "    def __init__(self):\n",
    "\n",
    "        self.allcards = [] #not needing user imput, since every deck is the same\n",
    "\n",
    "        for suit in suits: #defined earlier\n",
    "            for rank in ranks:\n",
    "                #Create a deck\n",
    "                created_cards = Card(suit, rank)\n",
    "                self.allcards.append(created_cards)\n",
    "\n",
    "            \n",
    "    def shuffle(self):\n",
    "        shuffle(self.allcards)\n",
    "\n",
    "    def deal_one(self):\n",
    "        #numb = randint(1,52)\n",
    "        return self.allcards.pop()"
   ]
  },
  {
   "cell_type": "markdown",
   "metadata": {},
   "source": [
    "PLAYER CLASS"
   ]
  },
  {
   "cell_type": "code",
   "execution_count": 4,
   "metadata": {},
   "outputs": [],
   "source": [
    "class Player():\n",
    "\n",
    "    def __init__(self,name):\n",
    "        self.name = name \n",
    "        self.all_cards = []\n",
    "\n",
    "    def remove_one(self):\n",
    "        return self.all_cards.pop(0)  #da popa prvu kartu sa beggining of the list ne sa kraja\n",
    "\n",
    "    def add_cards(self, new_cards):\n",
    "        if type(new_cards) == type([]): #ako je vise karti tj lista\n",
    "            self.all_cards.extend(new_cards) #ovo radimo jer ako imas listu, ne mozes ici append jer ce dodati listu u listu i imas nested list, ovako sa extend zrduzi ih\n",
    "        else:\n",
    "            self.all_cards.append(new_cards)\n",
    "            \n",
    "    def __str__(self):\n",
    "        return f'player {self.name} has {len(self.all_cards)} cards.'"
   ]
  },
  {
   "cell_type": "markdown",
   "metadata": {},
   "source": [
    "GAME SETUP"
   ]
  },
  {
   "cell_type": "code",
   "execution_count": 27,
   "metadata": {},
   "outputs": [],
   "source": [
    "#game setup\n",
    "Player1 = Player(\"Kerim\")\n",
    "Player2 = Player(\"Emir\")\n",
    "\n",
    "new_deck = Deck()\n",
    "\n",
    "new_deck.shuffle()\n",
    "\n",
    "#moj način\n",
    "\"\"\"\n",
    "s = 1\n",
    "for i in range(52):\n",
    "    if s%2 != 0:\n",
    "        Player1.add_cards(new_deck.deal_one())\n",
    "        #s += 1\n",
    "    else:\n",
    "        Player2.add_cards(new_deck.deal_one())\n",
    "    s += 1\n",
    "\n",
    "\"\"\"\n",
    "\n",
    "#njegov lakši\n",
    "\n",
    "for i in range(26): #26 puta uradi ovo dole\n",
    "    Player1.add_cards(new_deck.deal_one())\n",
    "    Player2.add_cards(new_deck.deal_one())"
   ]
  },
  {
   "cell_type": "markdown",
   "metadata": {},
   "source": [
    "RUN THE GAME"
   ]
  },
  {
   "cell_type": "code",
   "execution_count": 28,
   "metadata": {},
   "outputs": [
    {
     "name": "stdout",
     "output_type": "stream",
     "text": [
      "round 1\n",
      "round 2\n",
      "round 3\n",
      "round 4\n",
      "round 5\n",
      "round 6\n",
      "round 7\n",
      "WAR!\n",
      "round 8\n",
      "round 9\n",
      "round 10\n",
      "round 11\n",
      "round 12\n",
      "round 13\n",
      "WAR!\n",
      "round 14\n",
      "round 15\n",
      "round 16\n",
      "round 17\n",
      "round 18\n",
      "round 19\n",
      "round 20\n",
      "round 21\n",
      "round 22\n",
      "round 23\n",
      "round 24\n",
      "WAR!\n",
      "round 25\n",
      "WAR!\n",
      "round 26\n",
      "round 27\n",
      "round 28\n",
      "round 29\n",
      "WAR!\n",
      "round 30\n",
      "round 31\n",
      "WAR!\n",
      "round 32\n",
      "round 33\n",
      "round 34\n",
      "round 35\n",
      "round 36\n",
      "round 37\n",
      "round 38\n",
      "round 39\n",
      "round 40\n",
      "round 41\n",
      "round 42\n",
      "round 43\n",
      "round 44\n",
      "round 45\n",
      "round 46\n",
      "round 47\n",
      "round 48\n",
      "WAR!\n",
      "Player Kerim has lost due to the inefficinecy of cards\n",
      "Player Emir wins!\n"
     ]
    }
   ],
   "source": [
    "round_num = 0\n",
    "game_on = True\n",
    "while game_on:\n",
    "\n",
    "    round_num += 1\n",
    "    print(f\"round {round_num}\")\n",
    "\n",
    "    if len(Player1.all_cards) == 0:\n",
    "        print(f\"No more cards for {Player1.name}\")\n",
    "        print(f\"{Player1.name} has lost! {Player2.name} wins!\")\n",
    "        game_on = False\n",
    "        break\n",
    "    elif len(Player2.all_cards) == 0:\n",
    "        print(f\"No more cards for {Player2.name}\")\n",
    "        print(f\"{Player2.name} has lost! {Player1.name} wins!\")\n",
    "        game_on = False\n",
    "        break\n",
    "    # START A NEW ROUND\n",
    "    player_one_cardsInPlay = []\n",
    "    player_one_cardsInPlay.append(Player1.remove_one())\n",
    "\n",
    "    player_two_cardsInPlay = []\n",
    "    player_two_cardsInPlay.append(Player2.remove_one())\n",
    "\n",
    "    \n",
    "    at_war = True\n",
    "    while at_war:\n",
    "        if player_one_cardsInPlay[-1].value > player_two_cardsInPlay[-1].value:\n",
    "            Player1.add_cards(player_one_cardsInPlay)\n",
    "            Player1.add_cards(player_two_cardsInPlay)\n",
    "            at_war = False\n",
    "        elif player_one_cardsInPlay[-1].value < player_two_cardsInPlay[-1].value:\n",
    "            Player2.add_cards(player_one_cardsInPlay)\n",
    "            Player2.add_cards(player_two_cardsInPlay)\n",
    "            at_war = False\n",
    "        else: \n",
    "            print(\"WAR!\")\n",
    "            if len(Player1.all_cards) < 5:\n",
    "                print(f\"Player {Player1.name} has lost due to the inefficinecy of cards\")\n",
    "                print(f\"Player {Player2.name} wins!\")\n",
    "                game_on = False\n",
    "                at_war = False\n",
    "                \n",
    "            elif len(Player2.all_cards) < 5:\n",
    "                print(f\"Player {Player2.name} has lost due to the inefficinecy of cards\")\n",
    "                print(f\"Player {Player1.name} wins!\")\n",
    "                game_on = False\n",
    "                at_war = False\n",
    "                \n",
    "            else:\n",
    "                for i in range(5):\n",
    "                    player_one_cardsInPlay.append(Player1.remove_one())\n",
    "                    player_two_cardsInPlay.append(Player2.remove_one())\n",
    "\n",
    "\n",
    "\n"
   ]
  }
 ],
 "metadata": {
  "kernelspec": {
   "display_name": "Python 3",
   "language": "python",
   "name": "python3"
  },
  "language_info": {
   "codemirror_mode": {
    "name": "ipython",
    "version": 3
   },
   "file_extension": ".py",
   "mimetype": "text/x-python",
   "name": "python",
   "nbconvert_exporter": "python",
   "pygments_lexer": "ipython3",
   "version": "3.11.4"
  }
 },
 "nbformat": 4,
 "nbformat_minor": 2
}
